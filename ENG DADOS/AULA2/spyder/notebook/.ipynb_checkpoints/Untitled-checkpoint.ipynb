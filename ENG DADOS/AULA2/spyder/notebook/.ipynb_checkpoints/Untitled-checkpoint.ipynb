{
 "cells": [
  {
   "cell_type": "code",
   "execution_count": null,
   "id": "97743c41-903b-4b09-8fe4-1cb50b0400a3",
   "metadata": {},
   "outputs": [],
   "source": [
    "# =============================================================================\n",
    "# 1 - Pacotes\n",
    "# =============================================================================\n",
    "# 1.1 - Instala\n",
    "!pip install mysql-connector-python\n",
    "!pip install pandas\n",
    "\n",
    "# 1.2 - Importa\n",
    "import mysql.connector\n",
    "import pandas as pd"
   ]
  }
 ],
 "metadata": {
  "kernelspec": {
   "display_name": "Python 3 (ipykernel)",
   "language": "python",
   "name": "python3"
  },
  "language_info": {
   "codemirror_mode": {
    "name": "ipython",
    "version": 3
   },
   "file_extension": ".py",
   "mimetype": "text/x-python",
   "name": "python",
   "nbconvert_exporter": "python",
   "pygments_lexer": "ipython3",
   "version": "3.12.4"
  }
 },
 "nbformat": 4,
 "nbformat_minor": 5
}
